{
 "cells": [
  {
   "cell_type": "code",
   "execution_count": null,
   "metadata": {},
   "outputs": [],
   "source": [
    "import pandas as pd\n",
    "from sklearn.preprocessing import LabelEncoder\n",
    "import matplotlib.pyplot as plt\n",
    "from sklearn.model_selection import StratifiedKFold\n",
    "from sklearn.preprocessing import RobustScaler, MinMaxScaler\n",
    "from sklearn.metrics import accuracy_score, confusion_matrix, precision_score, recall_score, f1_score\n",
    "\n",
    "from imblearn.over_sampling import SMOTE\n",
    "from imblearn.under_sampling import RandomUnderSampler\n",
    "\n",
    "import numpy as np\n",
    "import tensorflow as tf\n",
    "from tensorflow.keras.models import Sequential\n",
    "from tensorflow.keras.layers import Dense\n",
    "from tensorflow.keras.activations import relu, softmax"
   ]
  },
  {
   "cell_type": "code",
   "execution_count": null,
   "metadata": {},
   "outputs": [],
   "source": [
    "training_file_path = '/content/drive/MyDrive/Colab Notebooks/training.csv'\n",
    "training_data = pd.read_csv(training_file_path) \n",
    "training_data.columns\n",
    "\n",
    "test_file_path = '/content/drive/MyDrive/Colab Notebooks/testing.csv'\n",
    "test_data = pd.read_csv(test_file_path) \n",
    "test_data.columns"
   ]
  },
  {
   "cell_type": "code",
   "execution_count": null,
   "metadata": {},
   "outputs": [],
   "source": [
    "# Extract the training data\n",
    "X_trains = training_data.iloc[:, 1:]\n",
    "y_trains = training_data.iloc[:, 0]\n",
    "\n",
    "# Print the first few rows of the 'X' data\n",
    "print(X_trains.head())\n",
    "# Print the first few values of the 'y' data\n",
    "print(y_trains.head())\n",
    "\n",
    "# Extract the test data\n",
    "X_tests = test_data.iloc[:, 1:]\n",
    "y_tests = test_data.iloc[:, 0]\n",
    "\n",
    "# Print the first few rows of the 'X' data\n",
    "print(X_tests.head())\n",
    "# Print the first few values of the 'y' data\n",
    "print(y_tests.head())"
   ]
  }
 ],
 "metadata": {
  "language_info": {
   "name": "python"
  }
 },
 "nbformat": 4,
 "nbformat_minor": 2
}
