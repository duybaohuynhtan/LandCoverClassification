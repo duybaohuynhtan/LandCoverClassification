{
 "cells": [
  {
   "cell_type": "code",
   "execution_count": null,
   "metadata": {},
   "outputs": [],
   "source": [
    "import pandas as pd\n",
    "from sklearn.preprocessing import LabelEncoder\n",
    "import matplotlib.pyplot as plt\n",
    "from sklearn.model_selection import StratifiedKFold\n",
    "from sklearn.preprocessing import RobustScaler, MinMaxScaler\n",
    "from sklearn.metrics import accuracy_score, confusion_matrix, precision_score, recall_score, f1_score\n",
    "\n",
    "from imblearn.over_sampling import SMOTE\n",
    "from imblearn.under_sampling import RandomUnderSampler\n",
    "\n",
    "import numpy as np\n",
    "import tensorflow as tf\n",
    "from tensorflow.keras.models import Sequential\n",
    "from tensorflow.keras.layers import Dense\n",
    "from tensorflow.keras.activations import relu, softmax"
   ]
  },
  {
   "cell_type": "code",
   "execution_count": null,
   "metadata": {},
   "outputs": [],
   "source": [
    "training_file_path = '/content/drive/MyDrive/Colab Notebooks/training.csv'\n",
    "training_data = pd.read_csv(training_file_path) \n",
    "training_data.columns\n",
    "\n",
    "test_file_path = '/content/drive/MyDrive/Colab Notebooks/testing.csv'\n",
    "test_data = pd.read_csv(test_file_path) \n",
    "test_data.columns"
   ]
  },
  {
   "cell_type": "code",
   "execution_count": null,
   "metadata": {},
   "outputs": [],
   "source": [
    "# Extract the training data\n",
    "X_trains = training_data.iloc[:, 1:]\n",
    "y_trains = training_data.iloc[:, 0]\n",
    "\n",
    "# Print the first few rows of the 'X' data\n",
    "print(X_trains.head())\n",
    "# Print the first few values of the 'y' data\n",
    "print(y_trains.head())\n",
    "\n",
    "# Extract the test data\n",
    "X_tests = test_data.iloc[:, 1:]\n",
    "y_tests = test_data.iloc[:, 0]\n",
    "\n",
    "# Print the first few rows of the 'X' data\n",
    "print(X_tests.head())\n",
    "# Print the first few values of the 'y' data\n",
    "print(y_tests.head())"
   ]
  },
  {
   "cell_type": "code",
   "execution_count": null,
   "metadata": {},
   "outputs": [],
   "source": [
    "# Convert X\n",
    "X_trains = np.array(X_trains)\n",
    "X_tests = np.array(X_tests)\n",
    "\n",
    "# Create a LabelEncoder object\n",
    "label_encoder = LabelEncoder()\n",
    "\n",
    "# Fit the encoder to the 'y' data\n",
    "label_encoder.fit(y_trains)\n",
    "label_encoder.fit(y_tests)\n",
    "\n",
    "# Transform the 'y' data into encoded values\n",
    "y_trains= label_encoder.transform(y_trains)\n",
    "y_tests = label_encoder.transform(y_tests)"
   ]
  },
  {
   "cell_type": "code",
   "execution_count": null,
   "metadata": {},
   "outputs": [],
   "source": [
    "#  Oversample the minority classes using SMOTE (Synthetic Minority Over-sampling Technique)\n",
    "smote = SMOTE(sampling_strategy='auto', random_state=42)\n",
    "\n",
    "#  Undersample the majority class using RandomUnderSampler\n",
    "rus = RandomUnderSampler(sampling_strategy='auto', random_state=42)\n",
    "\n",
    "#  Apply SMOTE to oversample the minority classes in the training data\n",
    "X_trains, y_trains = smote.fit_resample(X_trains, y_trains)\n",
    "\n",
    "#  Apply RandomUnderSampler to undersample the majority class in the training data\n",
    "X_trains, y_trains = rus.fit_resample(X_trains, y_trains)"
   ]
  }
 ],
 "metadata": {
  "language_info": {
   "name": "python"
  }
 },
 "nbformat": 4,
 "nbformat_minor": 2
}
